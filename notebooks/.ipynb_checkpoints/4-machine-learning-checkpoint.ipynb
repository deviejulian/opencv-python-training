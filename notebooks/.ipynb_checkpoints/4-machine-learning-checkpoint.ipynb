{
 "cells": [
  {
   "cell_type": "code",
   "execution_count": 10,
   "metadata": {},
   "outputs": [
    {
     "name": "stdout",
     "output_type": "stream",
     "text": [
      "(50, 100, 20, 20)\n"
     ]
    }
   ],
   "source": [
    "import cv2\n",
    "import numpy as np\n",
    "from sklearn.decomposition import PCA\n",
    "\n",
    "digits = cv2.imread('../datasets/digits.png', 0)\n",
    "\n",
    "\n",
    "images = [np.hsplit(row, 100) for row in np.vsplit(digits, 50)]\n",
    "\n",
    "images = np.array(images, dtype=np.float32)\n",
    "print(images.shape)"
   ]
  },
  {
   "cell_type": "code",
   "execution_count": 11,
   "metadata": {},
   "outputs": [
    {
     "name": "stdout",
     "output_type": "stream",
     "text": [
      "train_features: (2500, 400)\n",
      "test_features: (2500, 400)\n"
     ]
    }
   ],
   "source": [
    "\n",
    "pca = PCA(n_components = features.shape[1])\n",
    "pca.fit(features)\n",
    "\n",
    "plt.plot(np.cumsum(pca.explained_variance_ration))\n",
    "plt.xlabel('Number of components')\n",
    "plt.ylabel('Cumulative explained variance')\n",
    "plt.show()\n",
    "\n",
    "pca = PCA(n_components=100)\n",
    "\n",
    "#split into train/test\n",
    "train_features = images[:, :50].reshape( -1, (20 * 20))\n",
    "\n",
    "test_features = images[:, 50:100 ].reshape( -1, (20 * 20))\n",
    "\n",
    "pca.fit(train_features)"
   ]
  },
  {
   "cell_type": "code",
   "execution_count": 12,
   "metadata": {
    "scrolled": true
   },
   "outputs": [
    {
     "name": "stdout",
     "output_type": "stream",
     "text": [
      "train_labels: (2500, 1)\n",
      "test_labels: (2500, 1)\n"
     ]
    }
   ],
   "source": [
    "k = np.arange(10)\n",
    "train_labels = np.repeat(k, 250).reshape(-1, 1)\n",
    "test_labels= train_labels.copy()\n",
    "\n",
    "train_features -= np.mean(train_features, axis=0)\n",
    "test_features -= np.mean(train_features, axis=0)\n",
    "\n",
    "print(test_labels.shape)\n",
    "print(train_labels.shape)"
   ]
  },
  {
   "cell_type": "code",
   "execution_count": 13,
   "metadata": {},
   "outputs": [
    {
     "name": "stdout",
     "output_type": "stream",
     "text": [
      "Accuracy: 79.24\n"
     ]
    }
   ],
   "source": [
    "knn = cv2.ml.KNearest_create()\n",
    "\n",
    "\n",
    "knn.train(train_features, cv2.ml.ROW_SAMPLE, train_labels)\n",
    "\n",
    "ret, result, neighbors, dist = knn.findNearest(test_features, 3)\n",
    "\n",
    "#check if the result are correct\n",
    "matches = np.equal(result, test_labels)\n",
    "\n",
    "#convert bool into int\n",
    "matches = matches.astype(np.int)\n",
    "\n",
    "#count the correct predictions\n",
    "correct = np.count_nonzero(matches)\n",
    "\n",
    "\n",
    "#compute the accuracy\n",
    "accuracy = ((correct * 100.0) / result.size)\n",
    "\n",
    "print('Accuracy: {}'.format(accuracy)) "
   ]
  },
  {
   "cell_type": "code",
   "execution_count": 14,
   "metadata": {},
   "outputs": [
    {
     "name": "stdout",
     "output_type": "stream",
     "text": [
      "(30, 30, 28, 28)\n"
     ]
    },
    {
     "data": {
      "image/png": "[encoded data removed]",
      "text/plain": [
       "<Figure size 432x288 with 1 Axes>"
      ]
     },
     "metadata": {},
     "output_type": "display_data"
    }
   ],
   "source": [
    "\n",
    "#EXERCISES\n",
    "fashion = cv2.imread('../datasets/fashion.png', 0)\n",
    "\n",
    "\n",
    "img = [np.hsplit(row, 30) for row in np.vsplit(fashion, 30)]\n",
    "\n",
    "img = np.array(img, dtype=np.float32)\n",
    "print(img.shape)\n",
    "\n",
    "import matplotlib.pyplot as plt\n",
    "plt.imshow(img[2,3], cmap = 'gray')\n",
    "plt.show() "
   ]
  },
  {
   "cell_type": "code",
   "execution_count": 15,
   "metadata": {},
   "outputs": [
    {
     "name": "stdout",
     "output_type": "stream",
     "text": [
      "train_features: (450, 784)\n",
      "test_features: (450, 784)\n"
     ]
    }
   ],
   "source": [
    "#split into train/test\n",
    "train_features = img[:, :15].reshape( -1, (28 * 28))\n",
    "test_features = img[:, 15:30 ].reshape( -1, (28 * 28))\n",
    "\n",
    "print('train_features:', train_features.shape)\n",
    "print('test_features:', test_features.shape)"
   ]
  },
  {
   "cell_type": "code",
   "execution_count": 16,
   "metadata": {},
   "outputs": [
    {
     "name": "stdout",
     "output_type": "stream",
     "text": [
      "test_labels: (450, 1)\n",
      "train_labels: (450, 1)\n"
     ]
    }
   ],
   "source": [
    "k = np.arange(10)\n",
    "train_labels = np.repeat(k, 45).reshape(-1, 1)\n",
    "test_labels= train_labels.copy()\n",
    "\n",
    "train_features -= np.mean(train_features, axis=0)\n",
    "test_features -= np.mean(train_features, axis=0)\n",
    "\n",
    "print('test_labels:', test_labels.shape)\n",
    "print('train_labels:', train_labels.shape)"
   ]
  },
  {
   "cell_type": "code",
   "execution_count": 17,
   "metadata": {},
   "outputs": [
    {
     "name": "stdout",
     "output_type": "stream",
     "text": [
      "Accuracy: 52.0\n"
     ]
    }
   ],
   "source": [
    "knn = cv2.ml.KNearest_create()\n",
    "\n",
    "knn.train(train_features, cv2.ml.ROW_SAMPLE, train_labels)\n",
    "\n",
    "ret, result, neighbors, dist = knn.findNearest(test_features, 3)\n",
    "\n",
    "#check if the result are correct\n",
    "matches = np.equal(result, test_labels)\n",
    "\n",
    "#convert bool into int\n",
    "matches = matches.astype(np.int)\n",
    "\n",
    "#count the correct predictions\n",
    "correct = np.count_nonzero(matches)\n",
    "\n",
    "#compute the accuracy\n",
    "accuracy = ((correct * 100.0) / result.size)\n",
    "\n",
    "print('Accuracy: {}'.format(accuracy)) "
   ]
  },
  {
   "cell_type": "code",
   "execution_count": 9,
   "metadata": {},
   "outputs": [
    {
     "name": "stdout",
     "output_type": "stream",
     "text": [
      "Accuracy: 74.66666666666667\n"
     ]
    }
   ],
   "source": [
    "#EXERCISES\n",
    "digits = cv2.imread('../datasets/digits.png', 0)\n",
    "\n",
    "img = [np.hsplit(row, 100) for row in np.vsplit(digits, 50)]\n",
    "\n",
    "img = np.array(img, dtype=np.float32)\n",
    "\n",
    "model = cv2.ml.SVM_create()\n",
    "model.setKernel(cv2.ml.SVM_LINEAR)\n",
    "model.setC(2.67)\n",
    "model.setGamma(5.383)\n",
    "model.setType(cv2.ml.SVM_C_SVC)\n",
    "\n",
    "model.train(train_features, cv2.ml.ROW_SAMPLE, train_labels)\n",
    "\n",
    "result = model.predict(test_features)\n",
    "\n",
    "#check if the result are correct\n",
    "matches = np.equal(result[1], test_labels)\n",
    "\n",
    "#convert bool into int\n",
    "matches = matches.astype(np.int)\n",
    "\n",
    "#count the correct predictions\n",
    "correct = np.count_nonzero(matches)\n",
    "\n",
    "#compute the accuracy\n",
    "accuracy = ((correct * 100.0) / result[1].size)\n",
    "\n",
    "print('Accuracy: {}'.format(accuracy)) "
   ]
  },
  {
   "cell_type": "code",
   "execution_count": null,
   "metadata": {},
   "outputs": [],
   "source": []
  },
  {
   "cell_type": "markdown",
   "metadata": {},
   "source": [
    "### PRICIPAL COMPONENT ANALYSIS"
   ]
  },
  {
   "cell_type": "code",
   "execution_count": null,
   "metadata": {},
   "outputs": [],
   "source": [
    "\n",
    "\n",
    "\n"
   ]
  }
 ],
 "metadata": {
  "kernelspec": {
   "display_name": "Python 3",
   "language": "python",
   "name": "python3"
  },
  "language_info": {
   "codemirror_mode": {
    "name": "ipython",
    "version": 3
   },
   "file_extension": ".py",
   "mimetype": "text/x-python",
   "name": "python",
   "nbconvert_exporter": "python",
   "pygments_lexer": "ipython3",
   "version": "3.6.5"
  }
 },
 "nbformat": 4,
 "nbformat_minor": 2
}
