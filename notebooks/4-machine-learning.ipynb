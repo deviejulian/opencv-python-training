{
 "cells": [
  {
   "cell_type": "code",
   "execution_count": 1,
   "metadata": {},
   "outputs": [
    {
     "name": "stdout",
     "output_type": "stream",
     "text": [
      "(50, 100, 20, 20)\n"
     ]
    }
   ],
   "source": [
    "import cv2\n",
    "import numpy as np\n",
    "from sklearn.decomposition import PCA\n",
    "\n",
    "digits = cv2.imread('../datasets/digits.png', 0)\n",
    "\n",
    "\n",
    "images = [np.hsplit(row, 100) for row in np.vsplit(digits, 50)]\n",
    "\n",
    "images = np.array(images, dtype=np.float32)\n",
    "print(images.shape)"
   ]
  },
  {
   "cell_type": "code",
   "execution_count": 2,
   "metadata": {},
   "outputs": [
    {
     "name": "stdout",
     "output_type": "stream",
     "text": [
      "(2500, 400)\n"
     ]
    }
   ],
   "source": [
    "#split into train/test\n",
    "train_features = images[:, :50].reshape( -1, (20 * 20))\n",
    "\n",
    "test_features = images[:, 50:100 ].reshape( -1, (20 * 20))\n",
    "print(test_features.shape)"
   ]
  },
  {
   "cell_type": "code",
   "execution_count": 3,
   "metadata": {
    "scrolled": true
   },
   "outputs": [
    {
     "name": "stdout",
     "output_type": "stream",
     "text": [
      "(2500, 1)\n",
      "(2500, 1)\n"
     ]
    }
   ],
   "source": [
    "k = np.arange(10)\n",
    "train_labels = np.repeat(k, 250).reshape(-1, 1)\n",
    "test_labels= train_labels.copy()\n",
    "\n",
    "train_features -= np.mean(train_features, axis=0)\n",
    "test_features -= np.mean(train_features, axis=0)\n",
    "\n",
    "print(test_labels.shape)\n",
    "print(train_labels.shape)"
   ]
  },
  {
   "cell_type": "code",
   "execution_count": 4,
   "metadata": {},
   "outputs": [
    {
     "name": "stdout",
     "output_type": "stream",
     "text": [
      "Accuracy: 79.24\n"
     ]
    }
   ],
   "source": [
    "knn = cv2.ml.KNearest_create()\n",
    "\n",
    "\n",
    "knn.train(train_features, cv2.ml.ROW_SAMPLE, train_labels)\n",
    "\n",
    "ret, result, neighbors, dist = knn.findNearest(test_features, 3)\n",
    "\n",
    "#check if the result are correct\n",
    "matches = np.equal(result, test_labels)\n",
    "\n",
    "#convert bool into int\n",
    "matches = matches.astype(np.int)\n",
    "\n",
    "#count the correct predictions\n",
    "correct = np.count_nonzero(matches)\n",
    "\n",
    "#compute the accuracy\n",
    "accuracy = ((correct * 100.0) / result.size)\n",
    "\n",
    "print('Accuracy: {}'.format(accuracy)) "
   ]
  },
  {
   "cell_type": "code",
   "execution_count": 5,
   "metadata": {},
   "outputs": [
    {
     "name": "stdout",
     "output_type": "stream",
     "text": [
      "(30, 30, 28, 28)\n"
     ]
    },
    {
     "data": {
      "text/plain": [
       "<Figure size 640x480 with 1 Axes>"
      ]
     },
     "metadata": {},
     "output_type": "display_data"
    }
   ],
   "source": [
    "\n",
    "#EXERCISES\n",
    "fashion = cv2.imread('../datasets/fashion.png', 0)\n",
    "\n",
    "\n",
    "img = [np.hsplit(row, 30) for row in np.vsplit(fashion, 30)]\n",
    "\n",
    "img = np.array(img, dtype=np.float32)\n",
    "print(img.shape)\n",
    "\n",
    "import matplotlib.pyplot as plt\n",
    "plt.imshow(img[2,3], cmap = 'gray')\n",
    "plt.show() "
   ]
  },
  {
   "cell_type": "code",
   "execution_count": 6,
   "metadata": {},
   "outputs": [
    {
     "name": "stdout",
     "output_type": "stream",
     "text": [
      "train_features: (450, 784)\n",
      "test_features: (450, 784)\n"
     ]
    }
   ],
   "source": [
    "#split into train/test\n",
    "train_features = img[:, :15].reshape( -1, (28 * 28))\n",
    "test_features = img[:, 15:30 ].reshape( -1, (28 * 28))\n",
    "\n",
    "print('train_features:', train_features.shape)\n",
    "print('test_features:', test_features.shape)"
   ]
  },
  {
   "cell_type": "code",
   "execution_count": 7,
   "metadata": {},
   "outputs": [
    {
     "name": "stdout",
     "output_type": "stream",
     "text": [
      "test_labels: (450, 1)\n",
      "train_labels: (450, 1)\n"
     ]
    }
   ],
   "source": [
    "k = np.arange(10)\n",
    "train_labels = np.repeat(k, 45).reshape(-1, 1)\n",
    "test_labels= train_labels.copy()\n",
    "\n",
    "train_features -= np.mean(train_features, axis=0)\n",
    "test_features -= np.mean(train_features, axis=0)\n",
    "\n",
    "print('test_labels:', test_labels.shape)\n",
    "print('train_labels:', train_labels.shape)"
   ]
  },
  {
   "cell_type": "code",
   "execution_count": 8,
   "metadata": {},
   "outputs": [
    {
     "name": "stdout",
     "output_type": "stream",
     "text": [
      "Accuracy: 52.0\n"
     ]
    }
   ],
   "source": [
    "knn = cv2.ml.KNearest_create()\n",
    "\n",
    "knn.train(train_features, cv2.ml.ROW_SAMPLE, train_labels)\n",
    "\n",
    "ret, result, neighbors, dist = knn.findNearest(test_features, 3)\n",
    "\n",
    "#check if the result are correct\n",
    "matches = np.equal(result, test_labels)\n",
    "\n",
    "#convert bool into int\n",
    "matches = matches.astype(np.int)\n",
    "\n",
    "#count the correct predictions\n",
    "correct = np.count_nonzero(matches)\n",
    "\n",
    "#compute the accuracy\n",
    "accuracy = ((correct * 100.0) / result.size)\n",
    "\n",
    "print('Accuracy: {}'.format(accuracy)) "
   ]
  },
  {
   "cell_type": "code",
   "execution_count": 9,
   "metadata": {},
   "outputs": [
    {
     "name": "stdout",
     "output_type": "stream",
     "text": [
      "Accuracy: 56.44444444444444\n"
     ]
    }
   ],
   "source": [
    "#EXERCISES\n",
    "digits = cv2.imread('../datasets/digits.png', 0)\n",
    "\n",
    "img = [np.hsplit(row, 100) for row in np.vsplit(digits, 50)]\n",
    "\n",
    "img = np.array(img, dtype=np.float32)\n",
    "\n",
    "model = cv2.ml.SVM_create()\n",
    "model.setKernel(cv2.ml.SVM_LINEAR)\n",
    "model.setC(2.67)\n",
    "model.setGamma(5.383)\n",
    "model.setType(cv2.ml.SVM_C_SVC)\n",
    "\n",
    "model.train(train_features, cv2.ml.ROW_SAMPLE, train_labels)\n",
    "\n",
    "result = model.predict(test_features)\n",
    "\n",
    "#check if the result are correct\n",
    "matches = np.equal(result[1], test_labels)\n",
    "\n",
    "#convert bool into int\n",
    "matches = matches.astype(np.int)\n",
    "\n",
    "#count the correct predictions\n",
    "correct = np.count_nonzero(matches)\n",
    "\n",
    "#compute the accuracy\n",
    "accuracy = ((correct * 100.0) / result[1].size)\n",
    "\n",
    "print('Accuracy: {}'.format(accuracy)) "
   ]
  },
  {
   "cell_type": "code",
   "execution_count": null,
   "metadata": {},
   "outputs": [],
   "source": []
  },
  {
   "cell_type": "markdown",
   "metadata": {},
   "source": []
  },
  {
   "cell_type": "code",
   "execution_count": null,
   "metadata": {},
   "outputs": [],
   "source": [
    "\n",
    "\n"
   ]
  }
 ],
 "metadata": {
  "kernelspec": {
   "display_name": "Python 3",
   "language": "python",
   "name": "python3"
  },
  "language_info": {
   "codemirror_mode": {
    "name": "ipython",
    "version": 3
   },
   "file_extension": ".py",
   "mimetype": "text/x-python",
   "name": "python",
   "nbconvert_exporter": "python",
   "pygments_lexer": "ipython3",
   "version": "3.6.5"
  }
 },
 "nbformat": 4,
 "nbformat_minor": 2
}
